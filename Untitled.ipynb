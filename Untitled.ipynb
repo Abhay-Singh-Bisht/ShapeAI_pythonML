{
 "cells": [
  {
   "cell_type": "code",
   "execution_count": null,
   "metadata": {},
   "outputs": [],
   "source": [
    "import numpy as np\n",
    "import pandas as pd\n",
    "import sklearn\n",
    "from sklearn.datasets import load_boston\n",
    "df=load_boston\n",
    "df.keys()\n",
    "print(df.DESCR)\n",
    "boston=pf.DataFrame(df.data,columns=df.feature_names)\n",
    "boston.head()\n",
    "boston['MEDV']=df.target\n",
    "boston.head()\n",
    "boston.isnull()\n",
    "boston.isnull().sum()\n",
    "from sklearn.model_selection import train_test_split \n",
    "X=boston.drop('MEDV',axis=1)\n",
    "Y=boston['MEDV']\n",
    "X_train,X_test,Y_train,Y_test=train_test_spilt(X,Y,test_size=0.15, random_state=5)\n",
    "print(X_train.shape)\n",
    "print(X_test.shape)\n",
    "print(Y_train.shape)\n",
    "print(Y_test.shape)\n",
    "from sklearn.linear_model import LinearRegression\n",
    "from sklearn.metrics import mean_squared_error\n",
    "lin_model=LinearRegression()\n",
    "lin_model.fit(X_train,Y_train)\n",
    "Y_train_predict=lin_model.predict(X_train)\n",
    "rmse=(np.sqrt(mean_squared_error(Y_train,Y_train_predict)))\n",
    "print(\"model performance on training set\")\n",
    "Print ('Rmse is {}'.formate(rmse))\n",
    "Y_test_predict=lin_model.predict(X_test)\n",
    "rmse=(np.sqrt(mean_squared_error(Y_test,Y_test_predict)))\n",
    "print(\"model performance on training set\")\n",
    "Print ('Rmse is {}'.formate(rmse))\n"
   ]
  },
  {
   "cell_type": "code",
   "execution_count": null,
   "metadata": {},
   "outputs": [],
   "source": []
  }
 ],
 "metadata": {
  "kernelspec": {
   "display_name": "Python 3",
   "language": "python",
   "name": "python3"
  },
  "language_info": {
   "codemirror_mode": {
    "name": "ipython",
    "version": 3
   },
   "file_extension": ".py",
   "mimetype": "text/x-python",
   "name": "python",
   "nbconvert_exporter": "python",
   "pygments_lexer": "ipython3",
   "version": "3.8.3"
  }
 },
 "nbformat": 4,
 "nbformat_minor": 4
}
